{
 "cells": [
  {
   "cell_type": "markdown",
   "id": "01f5ffe6",
   "metadata": {},
   "source": [
    "# Use Case is Predicting House Rent \n",
    "\n",
    "1. Dataset Structure\n",
    "2. BHK: Number of Bedrooms, Hall, Kitchen.\n",
    "3. Rent: Rent of the Houses/Apartments/Flats.\n",
    "4. Size: Size of the Houses/Apartments/Flats in Square Feet.\n",
    "5. Floor: Houses/Apartments/Flats situated in which Floor and Total Number of Floors (Example: Ground out of 2, 3 out of 5, etc.)\n",
    "6. Area Type: Size of the Houses/Apartments/Flats calculated on either Super Area or Carpet Area or Build Area.\n",
    "7. Area Locality: Locality of the Houses/Apartments/Flats.\n",
    "8. City: City where the Houses/Apartments/Flats are Located.\n",
    "9. Furnishing Status: Furnishing Status of the Houses/Apartments/Flats, either it is Furnished or Semi-Furnished or Unfurnished.\n",
    "10. Tenant Preferred: Type of Tenant Preferred by the Owner or Agent.\n",
    "11. Bathroom: Number of Bathrooms.\n",
    "12. Point of Contact: Whom should you contact for more information regarding the Houses/Apartments/Flats.\n"
   ]
  },
  {
   "cell_type": "code",
   "execution_count": 1,
   "id": "dbf0f67b",
   "metadata": {},
   "outputs": [
    {
     "data": {
      "text/html": [
       "<div>\n",
       "<style scoped>\n",
       "    .dataframe tbody tr th:only-of-type {\n",
       "        vertical-align: middle;\n",
       "    }\n",
       "\n",
       "    .dataframe tbody tr th {\n",
       "        vertical-align: top;\n",
       "    }\n",
       "\n",
       "    .dataframe thead th {\n",
       "        text-align: right;\n",
       "    }\n",
       "</style>\n",
       "<table border=\"1\" class=\"dataframe\">\n",
       "  <thead>\n",
       "    <tr style=\"text-align: right;\">\n",
       "      <th></th>\n",
       "      <th>Posted On</th>\n",
       "      <th>BHK</th>\n",
       "      <th>Rent</th>\n",
       "      <th>Size</th>\n",
       "      <th>Floor</th>\n",
       "      <th>Area Type</th>\n",
       "      <th>Area Locality</th>\n",
       "      <th>City</th>\n",
       "      <th>Furnishing Status</th>\n",
       "      <th>Tenant Preferred</th>\n",
       "      <th>Bathroom</th>\n",
       "      <th>Point of Contact</th>\n",
       "    </tr>\n",
       "  </thead>\n",
       "  <tbody>\n",
       "    <tr>\n",
       "      <th>0</th>\n",
       "      <td>2022-05-18</td>\n",
       "      <td>2</td>\n",
       "      <td>10000</td>\n",
       "      <td>1100</td>\n",
       "      <td>Ground out of 2</td>\n",
       "      <td>Super Area</td>\n",
       "      <td>Bandel</td>\n",
       "      <td>Kolkata</td>\n",
       "      <td>Unfurnished</td>\n",
       "      <td>Bachelors/Family</td>\n",
       "      <td>2</td>\n",
       "      <td>Contact Owner</td>\n",
       "    </tr>\n",
       "    <tr>\n",
       "      <th>1</th>\n",
       "      <td>2022-05-13</td>\n",
       "      <td>2</td>\n",
       "      <td>20000</td>\n",
       "      <td>800</td>\n",
       "      <td>1 out of 3</td>\n",
       "      <td>Super Area</td>\n",
       "      <td>Phool Bagan, Kankurgachi</td>\n",
       "      <td>Kolkata</td>\n",
       "      <td>Semi-Furnished</td>\n",
       "      <td>Bachelors/Family</td>\n",
       "      <td>1</td>\n",
       "      <td>Contact Owner</td>\n",
       "    </tr>\n",
       "    <tr>\n",
       "      <th>2</th>\n",
       "      <td>2022-05-16</td>\n",
       "      <td>2</td>\n",
       "      <td>17000</td>\n",
       "      <td>1000</td>\n",
       "      <td>1 out of 3</td>\n",
       "      <td>Super Area</td>\n",
       "      <td>Salt Lake City Sector 2</td>\n",
       "      <td>Kolkata</td>\n",
       "      <td>Semi-Furnished</td>\n",
       "      <td>Bachelors/Family</td>\n",
       "      <td>1</td>\n",
       "      <td>Contact Owner</td>\n",
       "    </tr>\n",
       "    <tr>\n",
       "      <th>3</th>\n",
       "      <td>2022-07-04</td>\n",
       "      <td>2</td>\n",
       "      <td>10000</td>\n",
       "      <td>800</td>\n",
       "      <td>1 out of 2</td>\n",
       "      <td>Super Area</td>\n",
       "      <td>Dumdum Park</td>\n",
       "      <td>Kolkata</td>\n",
       "      <td>Unfurnished</td>\n",
       "      <td>Bachelors/Family</td>\n",
       "      <td>1</td>\n",
       "      <td>Contact Owner</td>\n",
       "    </tr>\n",
       "    <tr>\n",
       "      <th>4</th>\n",
       "      <td>2022-05-09</td>\n",
       "      <td>2</td>\n",
       "      <td>7500</td>\n",
       "      <td>850</td>\n",
       "      <td>1 out of 2</td>\n",
       "      <td>Carpet Area</td>\n",
       "      <td>South Dum Dum</td>\n",
       "      <td>Kolkata</td>\n",
       "      <td>Unfurnished</td>\n",
       "      <td>Bachelors</td>\n",
       "      <td>1</td>\n",
       "      <td>Contact Owner</td>\n",
       "    </tr>\n",
       "  </tbody>\n",
       "</table>\n",
       "</div>"
      ],
      "text/plain": [
       "    Posted On  BHK   Rent  Size            Floor    Area Type  \\\n",
       "0  2022-05-18    2  10000  1100  Ground out of 2   Super Area   \n",
       "1  2022-05-13    2  20000   800       1 out of 3   Super Area   \n",
       "2  2022-05-16    2  17000  1000       1 out of 3   Super Area   \n",
       "3  2022-07-04    2  10000   800       1 out of 2   Super Area   \n",
       "4  2022-05-09    2   7500   850       1 out of 2  Carpet Area   \n",
       "\n",
       "              Area Locality     City Furnishing Status  Tenant Preferred  \\\n",
       "0                    Bandel  Kolkata       Unfurnished  Bachelors/Family   \n",
       "1  Phool Bagan, Kankurgachi  Kolkata    Semi-Furnished  Bachelors/Family   \n",
       "2   Salt Lake City Sector 2  Kolkata    Semi-Furnished  Bachelors/Family   \n",
       "3               Dumdum Park  Kolkata       Unfurnished  Bachelors/Family   \n",
       "4             South Dum Dum  Kolkata       Unfurnished         Bachelors   \n",
       "\n",
       "   Bathroom Point of Contact  \n",
       "0         2    Contact Owner  \n",
       "1         1    Contact Owner  \n",
       "2         1    Contact Owner  \n",
       "3         1    Contact Owner  \n",
       "4         1    Contact Owner  "
      ]
     },
     "execution_count": 1,
     "metadata": {},
     "output_type": "execute_result"
    }
   ],
   "source": [
    "import numpy as np\n",
    "import pandas as pd\n",
    "import plotly.express as px\n",
    "import seaborn as sns\n",
    "\n",
    "# Importing Dataset from CSV in DataFrame using Pandas\n",
    "\n",
    "df = pd.read_csv('House_Rent_Dataset.csv')\n",
    "df.head()\n"
   ]
  },
  {
   "cell_type": "code",
   "execution_count": 2,
   "id": "5bc159dd",
   "metadata": {},
   "outputs": [
    {
     "name": "stdout",
     "output_type": "stream",
     "text": [
      "<class 'pandas.core.frame.DataFrame'>\n",
      "RangeIndex: 4746 entries, 0 to 4745\n",
      "Data columns (total 12 columns):\n",
      " #   Column             Non-Null Count  Dtype \n",
      "---  ------             --------------  ----- \n",
      " 0   Posted On          4746 non-null   object\n",
      " 1   BHK                4746 non-null   int64 \n",
      " 2   Rent               4746 non-null   int64 \n",
      " 3   Size               4746 non-null   int64 \n",
      " 4   Floor              4746 non-null   object\n",
      " 5   Area Type          4746 non-null   object\n",
      " 6   Area Locality      4746 non-null   object\n",
      " 7   City               4746 non-null   object\n",
      " 8   Furnishing Status  4746 non-null   object\n",
      " 9   Tenant Preferred   4746 non-null   object\n",
      " 10  Bathroom           4746 non-null   int64 \n",
      " 11  Point of Contact   4746 non-null   object\n",
      "dtypes: int64(4), object(8)\n",
      "memory usage: 445.1+ KB\n",
      " \n",
      "Sum of Null Values in columns :\n",
      "Posted On            0\n",
      "BHK                  0\n",
      "Rent                 0\n",
      "Size                 0\n",
      "Floor                0\n",
      "Area Type            0\n",
      "Area Locality        0\n",
      "City                 0\n",
      "Furnishing Status    0\n",
      "Tenant Preferred     0\n",
      "Bathroom             0\n",
      "Point of Contact     0\n",
      "dtype: int64\n"
     ]
    }
   ],
   "source": [
    "# Geting details about Columns of dataset\n",
    "\n",
    "df.info()\n",
    "df.describe()\n",
    "print(\" \\nSum of Null Values in columns :\\n{}\".format(df.isnull().sum()))"
   ]
  },
  {
   "cell_type": "markdown",
   "id": "3fd7788e",
   "metadata": {},
   "source": [
    "#### No Null Values"
   ]
  },
  {
   "cell_type": "code",
   "execution_count": 3,
   "id": "5bd3deea",
   "metadata": {},
   "outputs": [
    {
     "name": "stdout",
     "output_type": "stream",
     "text": [
      "Number of duplicate rows 0\n"
     ]
    }
   ],
   "source": [
    "# To Check if there are any duplicate rows in Dataset\n",
    "\n",
    "duplicates = df.duplicated().sum()\n",
    "print(\"Number of duplicate rows {}\".format(duplicates))"
   ]
  },
  {
   "cell_type": "markdown",
   "id": "a76fe87b",
   "metadata": {},
   "source": [
    "#### No duplicate recrods found"
   ]
  },
  {
   "cell_type": "code",
   "execution_count": 4,
   "id": "bbadc9ad",
   "metadata": {},
   "outputs": [
    {
     "name": "stdout",
     "output_type": "stream",
     "text": [
      "['Posted On', 'BHK', 'Rent', 'Size', 'Floor', 'Area Type', 'Area Locality', 'City', 'Furnishing Status', 'Tenant Preferred', 'Bathroom', 'Point of Contact']\n",
      "['2022-05-18' '2022-05-13' '2022-05-16' '2022-07-04' '2022-05-09'\n",
      " '2022-04-29' '2022-06-21' '2022-06-07' '2022-06-20' '2022-05-23'\n",
      " '2022-05-14' '2022-05-05' '2022-06-01' '2022-05-17' '2022-06-09'\n",
      " '2022-07-02' '2022-06-14' '2022-06-15' '2022-05-28' '2022-05-22'\n",
      " '2022-06-18' '2022-06-25' '2022-06-22' '2022-05-21' '2022-06-26'\n",
      " '2022-06-16' '2022-06-29' '2022-05-10' '2022-05-12' '2022-06-03'\n",
      " '2022-05-31' '2022-06-10' '2022-06-24' '2022-04-30' '2022-05-27'\n",
      " '2022-06-06' '2022-05-20' '2022-05-26' '2022-07-03' '2022-04-23'\n",
      " '2022-06-19' '2022-07-06' '2022-06-04' '2022-05-30' '2022-06-08'\n",
      " '2022-05-03' '2022-05-07' '2022-06-27' '2022-05-15' '2022-04-28'\n",
      " '2022-06-28' '2022-06-23' '2022-06-13' '2022-05-04' '2022-04-25'\n",
      " '2022-05-06' '2022-06-30' '2022-07-01' '2022-06-17' '2022-06-11'\n",
      " '2022-05-11' '2022-06-12' '2022-06-05' '2022-05-25' '2022-05-24'\n",
      " '2022-05-19' '2022-04-24' '2022-04-27' '2022-05-08' '2022-04-26'\n",
      " '2022-06-02' '2022-05-29' '2022-07-07' '2022-07-08' '2022-07-09'\n",
      " '2022-07-05' '2022-05-01' '2022-04-13' '2022-05-02' '2022-07-10'\n",
      " '2022-07-11']\n",
      "['Ground out of 2' '1 out of 3' '1 out of 2' 'Ground out of 1'\n",
      " 'Ground out of 4' '1 out of 4' '1 out of 1' 'Ground out of 3'\n",
      " '2 out of 3' '4 out of 5' '2 out of 2' '2 out of 5' '4 out of 14'\n",
      " '3 out of 3' '5 out of 5' '4 out of 4' '7 out of 8' '2 out of 4'\n",
      " '3 out of 4' '1 out of 5' '8 out of 5' 'Ground out of 6' '2 out of 1'\n",
      " 'Upper Basement out of 4' 'Ground out of 5' '3 out of 5' '11 out of 19'\n",
      " '5 out of 10' '11 out of 14' 'Lower Basement out of 2' '2 out of 7'\n",
      " '4 out of 10' '7 out of 10' '2 out of 13' '6 out of 7' '4 out of 7'\n",
      " '14 out of 14' '43 out of 78' '2 out of 8' '13 out of 18' '5 out of 12'\n",
      " '18 out of 24' '3 out of 7' '17 out of 31' '11 out of 21' '7 out of 19'\n",
      " '14 out of 23' '9 out of 20' 'Upper Basement out of 9' '19 out of 24'\n",
      " '3 out of 21' '1 out of 22' '8 out of 8' '6 out of 12' '4 out of 58'\n",
      " 'Upper Basement out of 16' '60 out of 66' '34 out of 48' '5 out of 8'\n",
      " '5 out of 14' '14 out of 40' '5 out of 7' '9 out of 22' '12 out of 18'\n",
      " '26 out of 44' '1 out of 8' '25 out of 42' '25 out of 41' '53 out of 78'\n",
      " 'Ground out of 7' '14 out of 20' '13 out of 20' '16 out of 23'\n",
      " '10 out of 18' '39 out of 60' '16 out of 21' '10 out of 32' '4 out of 8'\n",
      " '12 out of 24' '32 out of 41' '3 out of 30' '13 out of 21' '9 out of 29'\n",
      " '47 out of 89' '7 out of 41' '28 out of 30' '13 out of 15' '6 out of 21'\n",
      " '8 out of 16' '2 out of 6' '5 out of 19' '3 out of 11' '17 out of 42'\n",
      " '10 out of 12' '8 out of 28' '9 out of 15' '14 out of 22' '18 out of 40'\n",
      " '9 out of 17' '12 out of 45' '25 out of 35' '7 out of 15' '10 out of 16'\n",
      " 'Upper Basement out of 20' '5 out of 20' 'Upper Basement out of 40'\n",
      " '5 out of 18' '34 out of 58' '4 out of 6' '20 out of 22' '12 out of 19'\n",
      " '15 out of 18' '65 out of 78' '6 out of 16' '17 out of 22' '6 out of 24'\n",
      " '40 out of 75' '19 out of 38' '15 out of 31' '11 out of 28'\n",
      " '10 out of 22' '17 out of 24' '15 out of 19' '9 out of 10' '7 out of 12'\n",
      " '8 out of 20' '11 out of 13' '9 out of 19' '37 out of 51' '6 out of 11'\n",
      " '8 out of 15' '11 out of 20' '10 out of 23' 'Upper Basement out of 10'\n",
      " '7 out of 23' '4 out of 11' '17 out of 43' '7 out of 22' '14 out of 18'\n",
      " '6 out of 10' '8 out of 12' '3 out of 18' '7 out of 7' '14 out of 58'\n",
      " '18 out of 23' '19 out of 19' '13 out of 14' '7 out of 11' '11 out of 22'\n",
      " 'Upper Basement out of 30' '12 out of 14' '16 out of 31' '12 out of 13'\n",
      " '11 out of 51' '2 out of 12' '22 out of 24' '7 out of 14' '5 out of 13'\n",
      " '7 out of 21' '14 out of 21' '17 out of 25' '9 out of 14' '8 out of 27'\n",
      " '3 out of 6' '17 out of 20' '18 out of 22' '1 out of 7' '9 out of 30'\n",
      " '3 out of 8' '11 out of 26' '17 out of 27' '4 out of 12' '12 out of 16'\n",
      " '10 out of 24' '65 out of 76' '7 out of 9' '17 out of 60' '10 out of 11'\n",
      " '18 out of 25' '5 out of 11' '15 out of 17' '15 out of 23' '5 out of 17'\n",
      " '3 out of 28' '5 out of 24' '16 out of 32' '21 out of 22' '7 out of 13'\n",
      " '9 out of 12' '15 out of 32' '18 out of 27' '15 out of 16' '18 out of 45'\n",
      " '15 out of 15' '6 out of 14' '1 out of 20' '16 out of 36' '30 out of 44'\n",
      " '30 out of 37' '2 out of 9' '12 out of 22' '4 out of 9' '2 out of 22'\n",
      " '5 out of 6' '6 out of 18' '35 out of 55' '16 out of 29' '30 out of 45'\n",
      " '5 out of 9' '16 out of 25' '33 out of 42' '4 out of 16' '13 out of 23'\n",
      " '9 out of 38' '6 out of 8' '8 out of 13' '19 out of 30' '10 out of 14'\n",
      " '11 out of 24' '9 out of 16' '9 out of 31' '4 out of 15' '3 out of 9'\n",
      " '22 out of 30' '3 out of 58' '1 out of 9' '53 out of 60' '5 out of 22'\n",
      " '15 out of 22' '19 out of 21' '9 out of 40' 'Ground out of 8'\n",
      " '44 out of 75' '8 out of 17' '3 out of 14' '12 out of 31' '26 out of 42'\n",
      " '2 out of 45' '12 out of 68' '17 out of 36' '10 out of 28' '41 out of 41'\n",
      " '14 out of 68' '14 out of 17' '15 out of 20' '46 out of 76'\n",
      " '12 out of 20' '20 out of 30' '18 out of 32' '10 out of 25'\n",
      " '17 out of 29' '10 out of 31' '10 out of 15' '13 out of 16' '8 out of 10'\n",
      " '18 out of 21' '27 out of 58' '1 out of 6' '19 out of 25' '3 out of 15'\n",
      " '25 out of 43' '8 out of 14' '11 out of 12' '9 out of 21' '10 out of 13'\n",
      " '45 out of 77' '18 out of 19' '10 out of 20' '12 out of 29'\n",
      " 'Lower Basement out of 18' '15 out of 24' '48 out of 68' '12 out of 42'\n",
      " '16 out of 22' '35 out of 68' '18 out of 30' '11 out of 31'\n",
      " '50 out of 75' '18 out of 26' '12 out of 27' '16 out of 20'\n",
      " '24 out of 55' '16 out of 37' 'Upper Basement out of 7' '6 out of 15'\n",
      " '11 out of 27' '11 out of 23' '3 out of 12' '14 out of 15' '23 out of 25'\n",
      " '14 out of 48' '29 out of 35' '15 out of 36' '15 out of 25'\n",
      " '15 out of 28' '3 out of 36' '8 out of 11' '6 out of 20' '23 out of 23'\n",
      " '5 out of 15' '16 out of 18' '2 out of 10' '40 out of 50' '25 out of 28'\n",
      " '12 out of 17' '34 out of 40' 'Upper Basement out of 22' '8 out of 23'\n",
      " '5 out of 21' '32 out of 59' '20 out of 32' '9 out of 18' '10 out of 37'\n",
      " '25 out of 48' '4 out of 22' '8 out of 18' '11 out of 11' '5 out of 23'\n",
      " '60 out of 77' '11 out of 18' '4 out of 20' '5 out of 16' '3 out of 13'\n",
      " '30 out of 58' '15 out of 43' '7 out of 16' '18 out of 28' '9 out of 55'\n",
      " '11 out of 25' '49 out of 55' '7 out of 27' '14 out of 27' '16 out of 27'\n",
      " '25 out of 50' '6 out of 30' '21 out of 23' '8 out of 58' '20 out of 41'\n",
      " '3 out of 62' '4 out of 13' '7 out of 17' '12 out of 21' '28 out of 39'\n",
      " '15 out of 58' '6 out of 23' '36 out of 45' '9 out of 28' '6 out of 45'\n",
      " '22 out of 52' '10 out of 19' '21 out of 58' '48 out of 54' '7 out of 28'\n",
      " '11 out of 15' '19 out of 22' '15 out of 37' '2 out of 17' '76 out of 78'\n",
      " '3 out of 10' '20 out of 27' '8 out of 36' '14 out of 33' '21 out of 21'\n",
      " '12 out of 25' '18 out of 29' '14 out of 35' '7 out of 20' '20 out of 37'\n",
      " '9 out of 35' '27 out of 27' '15 out of 60' '19 out of 33' '18 out of 20'\n",
      " '13 out of 40' '9 out of 11' '8 out of 22' '6 out of 13' '20 out of 31'\n",
      " '27 out of 45' '19 out of 20' '32 out of 46' '19 out of 85' '3 out of 23'\n",
      " '34 out of 46' '4 out of 27' '19 out of 27' '35 out of 60' '21 out of 33'\n",
      " '25 out of 52' '2 out of 24' '24 out of 24' '18 out of 33' '1 out of 10'\n",
      " '45 out of 60' '60 out of 71' '36 out of 81' '24 out of 60'\n",
      " '16 out of 38' '8 out of 45' 'Ground out of 16' '8 out of 32'\n",
      " '10 out of 10' '23 out of 40' '7 out of 18' '8 out of 19' '6 out of 17'\n",
      " '16 out of 34' 'Ground out of 12' '6 out of 9' 'Ground out of 18'\n",
      " '20 out of 25' '3 out of 22' '9 out of 32' '26 out of 32' '17 out of 18'\n",
      " '24 out of 25' '19 out of 26' '17 out of 19' '1 out of 13' '14 out of 30'\n",
      " '8 out of 9' '3 out of 17' 'Lower Basement out of 3' '12 out of 23'\n",
      " 'Ground out of 9' '1 out of 24' '1 out of 12' '3' 'Ground' '15 out of 29'\n",
      " '20 out of 20' '14 out of 29' 'Lower Basement out of 1' '13 out of 17'\n",
      " '1 out of 14' 'Upper Basement out of 2' '2 out of 14' '24 out of 31'\n",
      " '2 out of 32' '2 out of 16' '9 out of 13' '1 out of 11' '6 out of 29'\n",
      " '9 out of 9' '28 out of 31' '1 out of 15' 'Ground out of 14'\n",
      " '2 out of 11' '19 out of 31' '1 out of 16' '25 out of 32' '11 out of 16'\n",
      " '11 out of 17' 'Upper Basement out of 3' '4 out of 24' '1 out of 19'\n",
      " '7 out of 30' '16 out of 19' 'Upper Basement out of 5' 'Ground out of 13'\n",
      " '2 out of 25' '23 out of 30' '4 out of 30' '13 out of 25' '23 out of 35'\n",
      " 'Ground out of 10' '5 out of 34' '20 out of 35' '1' '4 out of 31'\n",
      " '4 out of 26' '24 out of 33' '4 out of 17' '1 out of 35' '11 out of 35'\n",
      " 'Ground out of 15' 'Ground out of 27' '15 out of 30' '12 out of 30'\n",
      " '23 out of 34']\n",
      "['Super Area' 'Carpet Area' 'Built Area']\n",
      "['Bandel' 'Phool Bagan, Kankurgachi' 'Salt Lake City Sector 2' ...\n",
      " 'BN Reddy Nagar' 'Godavari Homes, Quthbullapur' 'Manikonda, Hyderabad']\n",
      "['Kolkata' 'Mumbai' 'Bangalore' 'Delhi' 'Chennai' 'Hyderabad']\n",
      "['Unfurnished' 'Semi-Furnished' 'Furnished']\n",
      "['Bachelors/Family' 'Bachelors' 'Family']\n",
      "['Contact Owner' 'Contact Agent' 'Contact Builder']\n"
     ]
    }
   ],
   "source": [
    "df_columns = list(df.columns)\n",
    "print(df_columns)\n",
    "\n",
    "for col in df_columns:\n",
    "    if df[col].dtype == 'object':\n",
    "        print(df[col].unique())\n",
    "    \n",
    "    "
   ]
  },
  {
   "cell_type": "markdown",
   "id": "66d0a691",
   "metadata": {},
   "source": [
    "Data is having consistency in names accross differnt columns"
   ]
  },
  {
   "cell_type": "markdown",
   "id": "71876578",
   "metadata": {},
   "source": [
    "#### Spliting 'Floor' into 'Rented Floor' and 'Total Floor' Column from dataset as nuimber of floor can play important role in deciding it's Rent price"
   ]
  },
  {
   "cell_type": "code",
   "execution_count": 5,
   "id": "0b7061ad",
   "metadata": {},
   "outputs": [
    {
     "data": {
      "text/html": [
       "<div>\n",
       "<style scoped>\n",
       "    .dataframe tbody tr th:only-of-type {\n",
       "        vertical-align: middle;\n",
       "    }\n",
       "\n",
       "    .dataframe tbody tr th {\n",
       "        vertical-align: top;\n",
       "    }\n",
       "\n",
       "    .dataframe thead th {\n",
       "        text-align: right;\n",
       "    }\n",
       "</style>\n",
       "<table border=\"1\" class=\"dataframe\">\n",
       "  <thead>\n",
       "    <tr style=\"text-align: right;\">\n",
       "      <th></th>\n",
       "      <th>Posted On</th>\n",
       "      <th>BHK</th>\n",
       "      <th>Rent</th>\n",
       "      <th>Size</th>\n",
       "      <th>Floor</th>\n",
       "      <th>Area Type</th>\n",
       "      <th>Area Locality</th>\n",
       "      <th>City</th>\n",
       "      <th>Furnishing Status</th>\n",
       "      <th>Tenant Preferred</th>\n",
       "      <th>Bathroom</th>\n",
       "      <th>Point of Contact</th>\n",
       "      <th>Rented Floor</th>\n",
       "      <th>Total Floor</th>\n",
       "    </tr>\n",
       "  </thead>\n",
       "  <tbody>\n",
       "    <tr>\n",
       "      <th>0</th>\n",
       "      <td>2022-05-18</td>\n",
       "      <td>2</td>\n",
       "      <td>10000</td>\n",
       "      <td>1100</td>\n",
       "      <td>Ground out of 2</td>\n",
       "      <td>Super Area</td>\n",
       "      <td>Bandel</td>\n",
       "      <td>Kolkata</td>\n",
       "      <td>Unfurnished</td>\n",
       "      <td>Bachelors/Family</td>\n",
       "      <td>2</td>\n",
       "      <td>Contact Owner</td>\n",
       "      <td>Ground</td>\n",
       "      <td>2</td>\n",
       "    </tr>\n",
       "    <tr>\n",
       "      <th>1</th>\n",
       "      <td>2022-05-13</td>\n",
       "      <td>2</td>\n",
       "      <td>20000</td>\n",
       "      <td>800</td>\n",
       "      <td>1 out of 3</td>\n",
       "      <td>Super Area</td>\n",
       "      <td>Phool Bagan, Kankurgachi</td>\n",
       "      <td>Kolkata</td>\n",
       "      <td>Semi-Furnished</td>\n",
       "      <td>Bachelors/Family</td>\n",
       "      <td>1</td>\n",
       "      <td>Contact Owner</td>\n",
       "      <td>1</td>\n",
       "      <td>3</td>\n",
       "    </tr>\n",
       "    <tr>\n",
       "      <th>2</th>\n",
       "      <td>2022-05-16</td>\n",
       "      <td>2</td>\n",
       "      <td>17000</td>\n",
       "      <td>1000</td>\n",
       "      <td>1 out of 3</td>\n",
       "      <td>Super Area</td>\n",
       "      <td>Salt Lake City Sector 2</td>\n",
       "      <td>Kolkata</td>\n",
       "      <td>Semi-Furnished</td>\n",
       "      <td>Bachelors/Family</td>\n",
       "      <td>1</td>\n",
       "      <td>Contact Owner</td>\n",
       "      <td>1</td>\n",
       "      <td>3</td>\n",
       "    </tr>\n",
       "    <tr>\n",
       "      <th>3</th>\n",
       "      <td>2022-07-04</td>\n",
       "      <td>2</td>\n",
       "      <td>10000</td>\n",
       "      <td>800</td>\n",
       "      <td>1 out of 2</td>\n",
       "      <td>Super Area</td>\n",
       "      <td>Dumdum Park</td>\n",
       "      <td>Kolkata</td>\n",
       "      <td>Unfurnished</td>\n",
       "      <td>Bachelors/Family</td>\n",
       "      <td>1</td>\n",
       "      <td>Contact Owner</td>\n",
       "      <td>1</td>\n",
       "      <td>2</td>\n",
       "    </tr>\n",
       "    <tr>\n",
       "      <th>4</th>\n",
       "      <td>2022-05-09</td>\n",
       "      <td>2</td>\n",
       "      <td>7500</td>\n",
       "      <td>850</td>\n",
       "      <td>1 out of 2</td>\n",
       "      <td>Carpet Area</td>\n",
       "      <td>South Dum Dum</td>\n",
       "      <td>Kolkata</td>\n",
       "      <td>Unfurnished</td>\n",
       "      <td>Bachelors</td>\n",
       "      <td>1</td>\n",
       "      <td>Contact Owner</td>\n",
       "      <td>1</td>\n",
       "      <td>2</td>\n",
       "    </tr>\n",
       "  </tbody>\n",
       "</table>\n",
       "</div>"
      ],
      "text/plain": [
       "    Posted On  BHK   Rent  Size            Floor    Area Type  \\\n",
       "0  2022-05-18    2  10000  1100  Ground out of 2   Super Area   \n",
       "1  2022-05-13    2  20000   800       1 out of 3   Super Area   \n",
       "2  2022-05-16    2  17000  1000       1 out of 3   Super Area   \n",
       "3  2022-07-04    2  10000   800       1 out of 2   Super Area   \n",
       "4  2022-05-09    2   7500   850       1 out of 2  Carpet Area   \n",
       "\n",
       "              Area Locality     City Furnishing Status  Tenant Preferred  \\\n",
       "0                    Bandel  Kolkata       Unfurnished  Bachelors/Family   \n",
       "1  Phool Bagan, Kankurgachi  Kolkata    Semi-Furnished  Bachelors/Family   \n",
       "2   Salt Lake City Sector 2  Kolkata    Semi-Furnished  Bachelors/Family   \n",
       "3               Dumdum Park  Kolkata       Unfurnished  Bachelors/Family   \n",
       "4             South Dum Dum  Kolkata       Unfurnished         Bachelors   \n",
       "\n",
       "   Bathroom Point of Contact Rented Floor Total Floor  \n",
       "0         2    Contact Owner       Ground           2  \n",
       "1         1    Contact Owner            1           3  \n",
       "2         1    Contact Owner            1           3  \n",
       "3         1    Contact Owner            1           2  \n",
       "4         1    Contact Owner            1           2  "
      ]
     },
     "execution_count": 5,
     "metadata": {},
     "output_type": "execute_result"
    }
   ],
   "source": [
    "df['Rented Floor'] = df['Floor'].apply(lambda x: x.split(\" out of \")[0])\n",
    "df['Total Floor'] = df['Floor'].apply(lambda x: x.split(\" \")[-1])\n",
    "#df['Posted Year'] = df['Posted On'].apply(lambda x: x.split(\"-\")[0])\n",
    "df.head(5)\n",
    "#df['Posted Year'].unique()"
   ]
  },
  {
   "cell_type": "code",
   "execution_count": 6,
   "id": "621859d3",
   "metadata": {},
   "outputs": [
    {
     "name": "stdout",
     "output_type": "stream",
     "text": [
      "\n",
      " Columne Name Rented Floor and unique values are:\n",
      "['Ground' '1' '2' '4' '3' '5' '7' '8' 'Upper Basement' '11'\n",
      " 'Lower Basement' '6' '14' '43' '13' '18' '17' '9' '19' '60' '34' '12'\n",
      " '26' '25' '53' '16' '10' '39' '32' '47' '28' '20' '15' '65' '40' '37'\n",
      " '22' '21' '30' '35' '33' '44' '41' '46' '27' '45' '48' '50' '24' '23'\n",
      " '29' '49' '36' '76']\n",
      "\n",
      " Columne Name Total Floor and unique values are:\n",
      "['2' '3' '1' '4' '5' '14' '8' '6' '19' '10' '7' '13' '78' '18' '12' '24'\n",
      " '31' '21' '23' '20' '9' '22' '58' '16' '66' '48' '40' '44' '42' '41' '60'\n",
      " '32' '30' '29' '89' '15' '11' '28' '17' '45' '35' '75' '38' '51' '43'\n",
      " '25' '27' '26' '76' '36' '37' '55' '68' '77' '50' '59' '62' '39' '52'\n",
      " '54' '33' '46' '85' '71' '81' '34' 'Ground']\n"
     ]
    }
   ],
   "source": [
    "for col in df.keys():\n",
    "    if col == 'Rented Floor' or col == 'Total Floor':\n",
    "        print(\"\\n Columne Name {} and unique values are:\\n{}\".format(col,df[col].unique()))"
   ]
  },
  {
   "cell_type": "markdown",
   "id": "c1c1c68a",
   "metadata": {},
   "source": [
    "### Replacing Floor with numeric values and changing it's Datatype as int \n",
    "For Columns 'Rented Floor' & 'Total Floor'  and values will be: Ground = 0 , Upper Basement = -1, Lower Basement = -2\n"
   ]
  },
  {
   "cell_type": "code",
   "execution_count": 7,
   "id": "5c826944",
   "metadata": {},
   "outputs": [
    {
     "data": {
      "text/html": [
       "<div>\n",
       "<style scoped>\n",
       "    .dataframe tbody tr th:only-of-type {\n",
       "        vertical-align: middle;\n",
       "    }\n",
       "\n",
       "    .dataframe tbody tr th {\n",
       "        vertical-align: top;\n",
       "    }\n",
       "\n",
       "    .dataframe thead th {\n",
       "        text-align: right;\n",
       "    }\n",
       "</style>\n",
       "<table border=\"1\" class=\"dataframe\">\n",
       "  <thead>\n",
       "    <tr style=\"text-align: right;\">\n",
       "      <th></th>\n",
       "      <th>Posted On</th>\n",
       "      <th>BHK</th>\n",
       "      <th>Rent</th>\n",
       "      <th>Size</th>\n",
       "      <th>Area Type</th>\n",
       "      <th>Area Locality</th>\n",
       "      <th>City</th>\n",
       "      <th>Furnishing Status</th>\n",
       "      <th>Tenant Preferred</th>\n",
       "      <th>Bathroom</th>\n",
       "      <th>Point of Contact</th>\n",
       "      <th>Rented Floor</th>\n",
       "      <th>Total Floor</th>\n",
       "    </tr>\n",
       "  </thead>\n",
       "  <tbody>\n",
       "    <tr>\n",
       "      <th>0</th>\n",
       "      <td>2022-05-18</td>\n",
       "      <td>2</td>\n",
       "      <td>10000</td>\n",
       "      <td>1100</td>\n",
       "      <td>0</td>\n",
       "      <td>Bandel</td>\n",
       "      <td>Kolkata</td>\n",
       "      <td>Unfurnished</td>\n",
       "      <td>Bachelors/Family</td>\n",
       "      <td>2</td>\n",
       "      <td>Contact Owner</td>\n",
       "      <td>0</td>\n",
       "      <td>2</td>\n",
       "    </tr>\n",
       "    <tr>\n",
       "      <th>1</th>\n",
       "      <td>2022-05-13</td>\n",
       "      <td>2</td>\n",
       "      <td>20000</td>\n",
       "      <td>800</td>\n",
       "      <td>0</td>\n",
       "      <td>Phool Bagan, Kankurgachi</td>\n",
       "      <td>Kolkata</td>\n",
       "      <td>Semi-Furnished</td>\n",
       "      <td>Bachelors/Family</td>\n",
       "      <td>1</td>\n",
       "      <td>Contact Owner</td>\n",
       "      <td>1</td>\n",
       "      <td>3</td>\n",
       "    </tr>\n",
       "    <tr>\n",
       "      <th>2</th>\n",
       "      <td>2022-05-16</td>\n",
       "      <td>2</td>\n",
       "      <td>17000</td>\n",
       "      <td>1000</td>\n",
       "      <td>0</td>\n",
       "      <td>Salt Lake City Sector 2</td>\n",
       "      <td>Kolkata</td>\n",
       "      <td>Semi-Furnished</td>\n",
       "      <td>Bachelors/Family</td>\n",
       "      <td>1</td>\n",
       "      <td>Contact Owner</td>\n",
       "      <td>1</td>\n",
       "      <td>3</td>\n",
       "    </tr>\n",
       "    <tr>\n",
       "      <th>3</th>\n",
       "      <td>2022-07-04</td>\n",
       "      <td>2</td>\n",
       "      <td>10000</td>\n",
       "      <td>800</td>\n",
       "      <td>0</td>\n",
       "      <td>Dumdum Park</td>\n",
       "      <td>Kolkata</td>\n",
       "      <td>Unfurnished</td>\n",
       "      <td>Bachelors/Family</td>\n",
       "      <td>1</td>\n",
       "      <td>Contact Owner</td>\n",
       "      <td>1</td>\n",
       "      <td>2</td>\n",
       "    </tr>\n",
       "    <tr>\n",
       "      <th>4</th>\n",
       "      <td>2022-05-09</td>\n",
       "      <td>2</td>\n",
       "      <td>7500</td>\n",
       "      <td>850</td>\n",
       "      <td>1</td>\n",
       "      <td>South Dum Dum</td>\n",
       "      <td>Kolkata</td>\n",
       "      <td>Unfurnished</td>\n",
       "      <td>Bachelors</td>\n",
       "      <td>1</td>\n",
       "      <td>Contact Owner</td>\n",
       "      <td>1</td>\n",
       "      <td>2</td>\n",
       "    </tr>\n",
       "  </tbody>\n",
       "</table>\n",
       "</div>"
      ],
      "text/plain": [
       "    Posted On  BHK   Rent  Size  Area Type             Area Locality     City  \\\n",
       "0  2022-05-18    2  10000  1100          0                    Bandel  Kolkata   \n",
       "1  2022-05-13    2  20000   800          0  Phool Bagan, Kankurgachi  Kolkata   \n",
       "2  2022-05-16    2  17000  1000          0   Salt Lake City Sector 2  Kolkata   \n",
       "3  2022-07-04    2  10000   800          0               Dumdum Park  Kolkata   \n",
       "4  2022-05-09    2   7500   850          1             South Dum Dum  Kolkata   \n",
       "\n",
       "  Furnishing Status  Tenant Preferred  Bathroom Point of Contact  \\\n",
       "0       Unfurnished  Bachelors/Family         2    Contact Owner   \n",
       "1    Semi-Furnished  Bachelors/Family         1    Contact Owner   \n",
       "2    Semi-Furnished  Bachelors/Family         1    Contact Owner   \n",
       "3       Unfurnished  Bachelors/Family         1    Contact Owner   \n",
       "4       Unfurnished         Bachelors         1    Contact Owner   \n",
       "\n",
       "   Rented Floor  Total Floor  \n",
       "0             0            2  \n",
       "1             1            3  \n",
       "2             1            3  \n",
       "3             1            2  \n",
       "4             1            2  "
      ]
     },
     "execution_count": 7,
     "metadata": {},
     "output_type": "execute_result"
    }
   ],
   "source": [
    "df[\"Rented Floor\"] = df[\"Rented Floor\"].replace([\"Ground\", \"Upper Basement\", \"Lower Basement\"], [0, -1, -2]).astype(int)\n",
    "df[\"Total Floor\"] = df[\"Total Floor\"].replace(\"Ground\", 0).astype(int)\n",
    "df[\"Area Type\"] = df[\"Area Type\"].replace([\"Super Area\", \"Carpet Area\", \"Built Area\"], [0, 1, 2]).astype(int)\n",
    "# Now we can drop Floor Column of original dataset\n",
    "df.drop(columns = \"Floor\", inplace = True)\n",
    "\n",
    "# Now our data looks like below\n",
    "df.head()"
   ]
  },
  {
   "cell_type": "code",
   "execution_count": 8,
   "id": "7a749fe3",
   "metadata": {},
   "outputs": [
    {
     "name": "stdout",
     "output_type": "stream",
     "text": [
      "    Posted On  BHK   Rent  Size  Area Type     City Furnishing Status  \\\n",
      "0  2022-05-18    2  10000  1100          0  Kolkata       Unfurnished   \n",
      "1  2022-05-13    2  20000   800          0  Kolkata    Semi-Furnished   \n",
      "2  2022-05-16    2  17000  1000          0  Kolkata    Semi-Furnished   \n",
      "3  2022-07-04    2  10000   800          0  Kolkata       Unfurnished   \n",
      "4  2022-05-09    2   7500   850          1  Kolkata       Unfurnished   \n",
      "\n",
      "   Tenant Preferred  Bathroom Point of Contact  Rented Floor  Total Floor  \n",
      "0  Bachelors/Family         2    Contact Owner             0            2  \n",
      "1  Bachelors/Family         1    Contact Owner             1            3  \n",
      "2  Bachelors/Family         1    Contact Owner             1            3  \n",
      "3  Bachelors/Family         1    Contact Owner             1            2  \n",
      "4         Bachelors         1    Contact Owner             1            2  \n"
     ]
    },
    {
     "data": {
      "text/plain": [
       "<AxesSubplot:>"
      ]
     },
     "execution_count": 8,
     "metadata": {},
     "output_type": "execute_result"
    },
    {
     "data": {
      "image/png": "[encoded data removed]",
      "text/plain": [
       "<Figure size 432x288 with 2 Axes>"
      ]
     },
     "metadata": {
      "needs_background": "light"
     },
     "output_type": "display_data"
    }
   ],
   "source": [
    "# There are few columns which we are not taking into consideration for RENT Price Prediction for the time being.\n",
    "\n",
    "df_n1 = df.drop('Area Locality', axis=1)\n",
    "\n",
    "print(df_n1.head())\n",
    "\n",
    "df_ht_map=df_n1.corr()\n",
    "df_ht_map\n",
    "sns.heatmap(df_ht_map,annot=True,)"
   ]
  },
  {
   "cell_type": "markdown",
   "id": "6c064e8f",
   "metadata": {},
   "source": [
    "### Doing Preprocessing before ML\n",
    "\n"
   ]
  },
  {
   "cell_type": "code",
   "execution_count": 9,
   "id": "460cc9d4",
   "metadata": {
    "scrolled": true
   },
   "outputs": [
    {
     "name": "stdout",
     "output_type": "stream",
     "text": [
      "<class 'pandas.core.frame.DataFrame'>\n",
      "RangeIndex: 4746 entries, 0 to 4745\n",
      "Data columns (total 12 columns):\n",
      " #   Column             Non-Null Count  Dtype \n",
      "---  ------             --------------  ----- \n",
      " 0   Posted On          4746 non-null   object\n",
      " 1   BHK                4746 non-null   int64 \n",
      " 2   Rent               4746 non-null   int64 \n",
      " 3   Size               4746 non-null   int64 \n",
      " 4   Area Type          4746 non-null   int32 \n",
      " 5   City               4746 non-null   object\n",
      " 6   Furnishing Status  4746 non-null   object\n",
      " 7   Tenant Preferred   4746 non-null   object\n",
      " 8   Bathroom           4746 non-null   int64 \n",
      " 9   Point of Contact   4746 non-null   object\n",
      " 10  Rented Floor       4746 non-null   int32 \n",
      " 11  Total Floor        4746 non-null   int32 \n",
      "dtypes: int32(3), int64(4), object(5)\n",
      "memory usage: 389.4+ KB\n",
      "Columns : Index(['Posted On', 'BHK', 'Rent', 'Size', 'Area Type', 'City',\n",
      "       'Furnishing Status', 'Tenant Preferred', 'Bathroom', 'Point of Contact',\n",
      "       'Rented Floor', 'Total Floor'],\n",
      "      dtype='object')\n"
     ]
    }
   ],
   "source": [
    "\n",
    "from sklearn.linear_model import Lasso\n",
    "from datetime import datetime\n",
    "import matplotlib.pyplot as plt\n",
    "from sklearn.preprocessing import StandardScaler\n",
    "from sklearn.model_selection import cross_val_score, KFold, train_test_split\n",
    "from sklearn.neighbors import KNeighborsClassifier\n",
    "from sklearn.linear_model import LogisticRegression, Ridge\n",
    "from sklearn.tree import DecisionTreeClassifier\n",
    "\n",
    "df_n1.info()\n",
    "df_n1.head()\n",
    "print(\"Columns : {}\".format(df_n1.columns))\n"
   ]
  },
  {
   "cell_type": "markdown",
   "id": "052edde4",
   "metadata": {},
   "source": [
    "## Model can be used to predict rent based on \n",
    "1. City \n",
    "2. Tenant Preferred\n",
    "3. Furnishing Status\n",
    "4. Point of Contact\n",
    "5. Posted On \n"
   ]
  },
  {
   "cell_type": "markdown",
   "id": "775aedaa",
   "metadata": {},
   "source": [
    "### Creating Models For: City"
   ]
  },
  {
   "cell_type": "code",
   "execution_count": 10,
   "id": "512619b2",
   "metadata": {},
   "outputs": [
    {
     "name": "stdout",
     "output_type": "stream",
     "text": [
      "   BHK   Rent  Size  Area Type     City  Bathroom  Rented Floor  Total Floor\n",
      "0    2  10000  1100          0  Kolkata         2             0            2\n",
      "1    2  20000   800          0  Kolkata         1             1            3\n",
      "2    2  17000  1000          0  Kolkata         1             1            3\n",
      "3    2  10000   800          0  Kolkata         1             1            2\n",
      "4    2   7500   850          1  Kolkata         1             1            2\n",
      "DataFrame after Categories are encoded:       BHK   Rent  Size  Area Type  Bathroom  Rented Floor  Total Floor  \\\n",
      "0       2  10000  1100          0         2             0            2   \n",
      "1       2  20000   800          0         1             1            3   \n",
      "2       2  17000  1000          0         1             1            3   \n",
      "3       2  10000   800          0         1             1            2   \n",
      "4       2   7500   850          1         1             1            2   \n",
      "...   ...    ...   ...        ...       ...           ...          ...   \n",
      "4741    2  15000  1000          1         2             3            5   \n",
      "4742    3  29000  2000          0         3             1            4   \n",
      "4743    3  35000  1750          1         3             3            5   \n",
      "4744    3  45000  1500          1         2            23           34   \n",
      "4745    2  15000  1000          1         2             4            5   \n",
      "\n",
      "      City_Chennai  City_Delhi  City_Hyderabad  City_Kolkata  City_Mumbai  \n",
      "0                0           0               0             1            0  \n",
      "1                0           0               0             1            0  \n",
      "2                0           0               0             1            0  \n",
      "3                0           0               0             1            0  \n",
      "4                0           0               0             1            0  \n",
      "...            ...         ...             ...           ...          ...  \n",
      "4741             0           0               1             0            0  \n",
      "4742             0           0               1             0            0  \n",
      "4743             0           0               1             0            0  \n",
      "4744             0           0               1             0            0  \n",
      "4745             0           0               1             0            0  \n",
      "\n",
      "[4746 rows x 12 columns]\n",
      "Index(['BHK', 'Size', 'Area Type', 'City', 'Bathroom', 'Rented Floor',\n",
      "       'Total Floor'],\n",
      "      dtype='object')\n"
     ]
    }
   ],
   "source": [
    "#def train_model(Spl_feature):\n",
    "#    all_cols = df_n1.columns\n",
    "#    for col in all_cols:\n",
    "#        if df_n1[col].dtype != 'object' and \n",
    "columns_l2=['Posted On', 'Furnishing Status', 'Tenant Preferred', 'Point of Contact' ]\n",
    "df_n2=df_n1.drop(columns_l2, axis=1)\n",
    "print(df_n2.head())\n",
    "\n",
    "df_n2_dummies=pd.get_dummies(df_n2, drop_first = True)\n",
    "print(\"DataFrame after Categories are encoded: {}\".format(df_n2_dummies))\n",
    "\n",
    "X=df_n2_dummies.drop('Rent', axis=1).values\n",
    "y=df_n2_dummies['Rent'].values\n",
    "\n",
    "X_train, X_test, y_train, y_test = train_test_split(X, y, test_size =0.3, random_state =21)\n",
    "\n",
    "#scaler = StandardScaler()\n",
    "from sklearn import preprocessing\n",
    "\n",
    "min_max_scaler = preprocessing.MinMaxScaler()\n",
    "X_train_minmax = min_max_scaler.fit_transform(X_train)\n",
    "\n",
    "X_train_scaled= min_max_scaler.fit_transform(X_train)\n",
    "X_test_scaled= min_max_scaler.transform(X_test)\n",
    "\n",
    "#X_test_scaled= min_max_scaler.fit_transform(X_tn)\n",
    "#y_test_scaled= min_max_scaler.fit_transform(X_train)\n",
    "\n",
    "selected_Cols= df_n2.drop('Rent',axis=1).columns\n",
    "print(selected_Cols)"
   ]
  },
  {
   "cell_type": "markdown",
   "id": "8c7026c8",
   "metadata": {},
   "source": [
    "### Lasso regression for feature importance"
   ]
  },
  {
   "cell_type": "markdown",
   "id": "4767ea1f",
   "metadata": {},
   "source": [
    "lasso = Lasso(alpha=0.3)\n",
    "Fit the model to the data\n",
    "lasso.fit(X,y)\n",
    "\n",
    "Compute and print the coefficients\n",
    "lasso_coef = lasso.fit(X,y).coef_\n",
    "print(lasso_coef)\n",
    "plt.bar(selected_Cols, lasso_coef)\n",
    "plt.xticks(rotation=45)\n",
    "plt.show()"
   ]
  },
  {
   "cell_type": "code",
   "execution_count": 11,
   "id": "2c34d5c2",
   "metadata": {
    "scrolled": true
   },
   "outputs": [
    {
     "data": {
      "image/png": "[encoded data removed]",
      "text/plain": [
       "<Figure size 432x288 with 1 Axes>"
      ]
     },
     "metadata": {
      "needs_background": "light"
     },
     "output_type": "display_data"
    }
   ],
   "source": [
    "# Creating a pipeline for Model Training\n",
    "\n",
    "models= { 'Logistic Regression': LogisticRegression(),\n",
    "            'KNN' : KNeighborsClassifier(),\n",
    "            'Decision Tree' : DecisionTreeClassifier()}\n",
    "\n",
    "results= []\n",
    "\n",
    "for model in models.values():\n",
    "    kf = KFold( n_splits = 6, shuffle = True, random_state = 21)\n",
    "    cv_results = cross_val_score(model, X_train_scaled, y_train, cv= kf)\n",
    "    \n",
    "    results.append(cv_results)\n",
    "    \n",
    "plt.boxplot(results, labels = models.keys())\n",
    "plt.show()"
   ]
  },
  {
   "cell_type": "markdown",
   "id": "bec8d949",
   "metadata": {},
   "source": [
    "#### Test Models Performance : For City"
   ]
  },
  {
   "cell_type": "code",
   "execution_count": 12,
   "id": "73f108d5",
   "metadata": {},
   "outputs": [
    {
     "name": "stdout",
     "output_type": "stream",
     "text": [
      " Logistic Regression Test Set Accuracy: 0.07724719101123595\n",
      " KNN Test Set Accuracy: 0.060393258426966294\n",
      " Decision Tree Test Set Accuracy: 0.07162921348314606\n"
     ]
    }
   ],
   "source": [
    "# Testing Performance \n",
    "\n",
    "for name, model in models.items():\n",
    "    model.fit(X_train_scaled, y_train)\n",
    "    test_score = model.score(X_test_scaled, y_test)\n",
    "    print(\" {} Test Set Accuracy: {}\".format(name, test_score))"
   ]
  },
  {
   "cell_type": "markdown",
   "id": "643dfcf4",
   "metadata": {},
   "source": [
    "## Models For: Tenant Preferred\n",
    "\n"
   ]
  },
  {
   "cell_type": "code",
   "execution_count": 13,
   "id": "d6cbbb92",
   "metadata": {},
   "outputs": [
    {
     "name": "stdout",
     "output_type": "stream",
     "text": [
      "   BHK   Rent  Size  Area Type  Tenant Preferred  Bathroom  Rented Floor  \\\n",
      "0    2  10000  1100          0  Bachelors/Family         2             0   \n",
      "1    2  20000   800          0  Bachelors/Family         1             1   \n",
      "2    2  17000  1000          0  Bachelors/Family         1             1   \n",
      "3    2  10000   800          0  Bachelors/Family         1             1   \n",
      "4    2   7500   850          1         Bachelors         1             1   \n",
      "\n",
      "   Total Floor  \n",
      "0            2  \n",
      "1            3  \n",
      "2            3  \n",
      "3            2  \n",
      "4            2  \n",
      "DataFrame after Categories are encoded:       BHK   Rent  Size  Area Type  Bathroom  Rented Floor  Total Floor  \\\n",
      "0       2  10000  1100          0         2             0            2   \n",
      "1       2  20000   800          0         1             1            3   \n",
      "2       2  17000  1000          0         1             1            3   \n",
      "3       2  10000   800          0         1             1            2   \n",
      "4       2   7500   850          1         1             1            2   \n",
      "...   ...    ...   ...        ...       ...           ...          ...   \n",
      "4741    2  15000  1000          1         2             3            5   \n",
      "4742    3  29000  2000          0         3             1            4   \n",
      "4743    3  35000  1750          1         3             3            5   \n",
      "4744    3  45000  1500          1         2            23           34   \n",
      "4745    2  15000  1000          1         2             4            5   \n",
      "\n",
      "      Tenant Preferred_Bachelors/Family  Tenant Preferred_Family  \n",
      "0                                     1                        0  \n",
      "1                                     1                        0  \n",
      "2                                     1                        0  \n",
      "3                                     1                        0  \n",
      "4                                     0                        0  \n",
      "...                                 ...                      ...  \n",
      "4741                                  1                        0  \n",
      "4742                                  1                        0  \n",
      "4743                                  1                        0  \n",
      "4744                                  0                        1  \n",
      "4745                                  0                        0  \n",
      "\n",
      "[4746 rows x 9 columns]\n",
      "Index(['BHK', 'Size', 'Area Type', 'Tenant Preferred', 'Bathroom',\n",
      "       'Rented Floor', 'Total Floor'],\n",
      "      dtype='object')\n"
     ]
    },
    {
     "data": {
      "image/png": "[encoded data removed]",
      "text/plain": [
       "<Figure size 432x288 with 1 Axes>"
      ]
     },
     "metadata": {
      "needs_background": "light"
     },
     "output_type": "display_data"
    },
    {
     "name": "stdout",
     "output_type": "stream",
     "text": [
      " Logistic Regression Test Set Accuracy for Tenant Preferred: 0.06530898876404495\n",
      " KNN Test Set Accuracy for Tenant Preferred: 0.05266853932584269\n",
      " Decision Tree Test Set Accuracy for Tenant Preferred: 0.04564606741573034\n"
     ]
    }
   ],
   "source": [
    "### If we are checking this for Tenant Preferred\n",
    "\n",
    "\n",
    "columns_l3 = ['Posted On', 'Furnishing Status', 'City', 'Point of Contact' ]\n",
    "df_n3=df_n1.drop(columns_l3, axis=1)\n",
    "print(df_n3.head())\n",
    "\n",
    "df_n3_dummies=pd.get_dummies(df_n3, drop_first = True)\n",
    "print(\"DataFrame after Categories are encoded: {}\".format(df_n3_dummies))\n",
    "\n",
    "\n",
    "X_2=df_n3_dummies.drop('Rent', axis=1).values\n",
    "y_2=df_n3_dummies['Rent'].values\n",
    "\n",
    "X_train_2, X_test_2, y_train_2, y_test_2 = train_test_split(X_2, y_2, test_size =0.3, random_state =21)\n",
    "\n",
    "#scaler = StandardScaler()\n",
    "from sklearn import preprocessing\n",
    "\n",
    "min_max_scaler = preprocessing.MinMaxScaler()\n",
    "\n",
    "X_train_scaled_2= min_max_scaler.fit_transform(X_train_2)\n",
    "X_test_scaled_2= min_max_scaler.transform(X_test_2)\n",
    "\n",
    "#X_test_scaled= min_max_scaler.fit_transform(X_tn)\n",
    "#y_test_scaled= min_max_scaler.fit_transform(X_train)\n",
    "\n",
    "selected_Cols_2= df_n3.drop('Rent',axis=1).columns\n",
    "print(selected_Cols_2)\n",
    "\n",
    "# Creating a pipeline for Model Training\n",
    "\n",
    "models_2 = { 'Logistic Regression': LogisticRegression(solver='lbfgs', max_iter=1000),\n",
    "            'KNN' : KNeighborsClassifier(),\n",
    "            'Decision Tree' : DecisionTreeClassifier()}\n",
    "\n",
    "results_2= []\n",
    "\n",
    "for model in models_2.values():\n",
    "    kf = KFold( n_splits = 6, shuffle = True, random_state = 21)\n",
    "    cv_results_2 = cross_val_score(model, X_train_scaled_2, y_train_2, cv= kf)\n",
    "    \n",
    "    results_2.append(cv_results_2)\n",
    "    \n",
    "plt.boxplot(results_2, labels = models.keys())\n",
    "plt.show()\n",
    "\n",
    "# Testing Performance \n",
    "\n",
    "for name, model in models_2.items():\n",
    "    model.fit(X_train_scaled_2, y_train_2)\n",
    "    test_score = model.score(X_test_scaled_2, y_test_2)\n",
    "    print(\" {} Test Set Accuracy for Tenant Preferred: {}\".format(name, test_score))\n"
   ]
  },
  {
   "cell_type": "code",
   "execution_count": 15,
   "id": "fe5e9afe",
   "metadata": {},
   "outputs": [
    {
     "data": {
      "image/png": "[encoded data removed]",
      "text/plain": [
       "<Figure size 432x288 with 1 Axes>"
      ]
     },
     "metadata": {
      "needs_background": "light"
     },
     "output_type": "display_data"
    }
   ],
   "source": [
    "plt.scatter(df_n1['City'], df_n1['Rent'])\n",
    "plt.show()"
   ]
  },
  {
   "cell_type": "code",
   "execution_count": 19,
   "id": "03b5d88d",
   "metadata": {
    "scrolled": true
   },
   "outputs": [
    {
     "data": {
      "image/png": "[encoded data removed]",
      "text/plain": [
       "<Figure size 432x288 with 1 Axes>"
      ]
     },
     "metadata": {
      "needs_background": "light"
     },
     "output_type": "display_data"
    }
   ],
   "source": [
    "plt.bar(df_n1['City'], df_n1['Rent'])\n",
    "plt.show()"
   ]
  },
  {
   "cell_type": "code",
   "execution_count": 25,
   "id": "04842088",
   "metadata": {},
   "outputs": [
    {
     "data": {
      "image/png": "[encoded data removed]",
      "text/plain": [
       "<Figure size 432x288 with 1 Axes>"
      ]
     },
     "metadata": {
      "needs_background": "light"
     },
     "output_type": "display_data"
    }
   ],
   "source": [
    "plt.bar(df_n1['Size'], df_n1['Rent'])\n",
    "plt.show()"
   ]
  },
  {
   "cell_type": "code",
   "execution_count": null,
   "id": "e784687b",
   "metadata": {},
   "outputs": [],
   "source": []
  }
 ],
 "metadata": {
  "kernelspec": {
   "display_name": "Python 3 (ipykernel)",
   "language": "python",
   "name": "python3"
  },
  "language_info": {
   "codemirror_mode": {
    "name": "ipython",
    "version": 3
   },
   "file_extension": ".py",
   "mimetype": "text/x-python",
   "name": "python",
   "nbconvert_exporter": "python",
   "pygments_lexer": "ipython3",
   "version": "3.9.12"
  }
 },
 "nbformat": 4,
 "nbformat_minor": 5
}
